{
 "cells": [
  {
   "cell_type": "markdown",
   "metadata": {},
   "source": [
    "<center>\n",
    "    <img src=\"https://s3-api.us-geo.objectstorage.softlayer.net/cf-courses-data/CognitiveClass/Logos/organization_logo/organization_logo.png\" width=\"300\" alt=\"cognitiveclass.ai logo\"  />\n",
    "</center>\n"
   ]
  },
  {
   "cell_type": "markdown",
   "metadata": {},
   "source": [
    "#### Add your code below following the instructions given in the course\n"
   ]
  },
  {
   "cell_type": "markdown",
   "metadata": {},
   "source": [
    "# My Jupyter Notebook on IBM Watson Studio"
   ]
  },
  {
   "cell_type": "markdown",
   "metadata": {},
   "source": [
    "<b>Mohammad Arsh Vahora</b>\n",
    "<br>\n",
    "\n",
    "Data Science Internship"
   ]
  },
  {
   "cell_type": "markdown",
   "metadata": {},
   "source": [
    "<i> I am interested in Data Science because it lets me bring together the technichal and non technichal side together. </i>"
   ]
  },
  {
   "cell_type": "markdown",
   "metadata": {},
   "source": [
    "### The code in next cell will add two numbers\n"
   ]
  },
  {
   "cell_type": "code",
   "execution_count": 1,
   "metadata": {},
   "outputs": [
    {
     "data": {
      "text/plain": [
       "4"
      ]
     },
     "execution_count": 1,
     "metadata": {},
     "output_type": "execute_result"
    }
   ],
   "source": [
    "2 + 2"
   ]
  },
  {
   "cell_type": "markdown",
   "metadata": {},
   "source": [
    "<ol>\n",
    "    <li> Index 1 </li>\n",
    "    <li> Index 2 </li>\n",
    "    <li> Index 3 </li>\n",
    "</ol>\n",
    "\n",
    "<ul>\n",
    "    <li> Index 1 </li>\n",
    "    <li> Index 2 </li>\n",
    "    <li> Index 3 </li>\n",
    "</ul>\n",
    "<img src = \"https://www.google.co.in/imgres?imgurl=https%3A%2F%2Fimg.fruugo.com%2Fproduct%2F9%2F14%2F177400149_max.jpg&imgrefurl=https%3A%2F%2Fwww.fruugoindia.com%2Fcan-shine-led-world-earth-globe-map%2Fp-58787434-119239101%3Flanguage%3Den&tbnid=-_6uI_ECRV3ggM&vet=12ahUKEwiHtKvo3_n6AhWFDrcAHe30BRAQMygEegUIARD2AQ..i&docid=on2rzjIs55zdAM&w=1124&h=1439&q=globe&hl=en&ved=2ahUKEwiHtKvo3_n6AhWFDrcAHe30BRAQMygEegUIARD2AQ\">"
   ]
  },
  {
   "cell_type": "code",
   "execution_count": null,
   "metadata": {},
   "outputs": [],
   "source": []
  }
 ],
 "metadata": {
  "kernelspec": {
   "display_name": "Python",
   "language": "python",
   "name": "conda-env-python-py"
  },
  "language_info": {
   "codemirror_mode": {
    "name": "ipython",
    "version": 3
   },
   "file_extension": ".py",
   "mimetype": "text/x-python",
   "name": "python",
   "nbconvert_exporter": "python",
   "pygments_lexer": "ipython3",
   "version": "3.7.12"
  }
 },
 "nbformat": 4,
 "nbformat_minor": 4
}
